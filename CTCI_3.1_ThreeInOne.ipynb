{
 "cells": [
  {
   "cell_type": "markdown",
   "metadata": {
    "collapsed": true
   },
   "source": [
    "### Cracking The Code Interview Ch 3.1"
   ]
  },
  {
   "cell_type": "code",
   "execution_count": null,
   "metadata": {
    "collapsed": true
   },
   "outputs": [],
   "source": [
    "class StackOfThree:\n",
    "    def __init__(self, size):\n",
    "        self.list = [None] * size\n",
    "        self.start = [0, int(size/3), int(2*size/3)]\n",
    "        self.position = [0, int(size/3), int(2*size/3)]\n",
    "\n",
    "    def push(self, stackId, element):\n",
    "        \n",
    "        if stackId not in [0,1,2]:\n",
    "            raise Exception('bad stackId')\n",
    "        if self.position[stackId] >= len(self.list) or self.position[stackId] == self.start[stackId + 1]:\n",
    "            raise Exception('cannot exceed stack size')\n",
    "        \n",
    "        self.list[self.position[stackId]] = element\n",
    "        self.position[stackId] += 1\n",
    "        \n",
    "    def pop(self, stackId):\n",
    "        \n",
    "        if stackId not in [0,1,2]:\n",
    "            raise Exception('bad stackId')\n",
    "        if self.size(stackId) == 0:\n",
    "            raise Exception('stack is empty')\n",
    "        \n",
    "        self.position[stackId] -= 1\n",
    "        return self.list[self.position[stackId]]\n",
    "        \n",
    "       \n",
    "    def size(self, stackId):\n",
    "        if stackId not in [0, 1, 2]:\n",
    "            raise Exception(\"bad stackId\")\n",
    "        return self.position[stackId] - self.start[stackId]\n",
    "        "
   ]
  },
  {
   "cell_type": "code",
   "execution_count": null,
   "metadata": {
    "collapsed": true
   },
   "outputs": [],
   "source": [
    "stacks = StackOfThree(10)"
   ]
  },
  {
   "cell_type": "code",
   "execution_count": null,
   "metadata": {},
   "outputs": [],
   "source": [
    "print(stacks.size(0))\n",
    "print(stacks.size(1))\n",
    "print(stacks.size(2))"
   ]
  },
  {
   "cell_type": "code",
   "execution_count": null,
   "metadata": {},
   "outputs": [],
   "source": [
    "stacks.push(0, 12345)\n",
    "stacks.push(0, 714)\n",
    "stacks.push(0, 314)\n",
    "print(stacks.size(0))\n",
    "stacks.push(0, 5)\n",
    "stacks.push(0, 10)\n",
    "print(stacks.size(0))"
   ]
  },
  {
   "cell_type": "code",
   "execution_count": null,
   "metadata": {},
   "outputs": [],
   "source": [
    "print(stacks.pop(0))\n",
    "print(stacks.pop(0))\n",
    "print(stacks.pop(0))"
   ]
  },
  {
   "cell_type": "code",
   "execution_count": null,
   "metadata": {
    "collapsed": true
   },
   "outputs": [],
   "source": []
  }
 ],
 "metadata": {
  "kernelspec": {
   "display_name": "Python 3",
   "language": "python",
   "name": "python3"
  },
  "language_info": {
   "codemirror_mode": {
    "name": "ipython",
    "version": 3
   },
   "file_extension": ".py",
   "mimetype": "text/x-python",
   "name": "python",
   "nbconvert_exporter": "python",
   "pygments_lexer": "ipython3",
   "version": "3.6.2"
  }
 },
 "nbformat": 4,
 "nbformat_minor": 2
}
