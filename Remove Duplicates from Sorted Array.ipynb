{
 "cells": [
  {
   "cell_type": "markdown",
   "metadata": {},
   "source": [
    "### Remove Duplicates from Sorted Array\n",
    "Given a sorted array, remove the duplicates **in-place** and return the new length. Each element appear only once, do not allocate extra space for another array. [Problem from LeetCode](https://leetcode.com/problems/remove-duplicates-from-sorted-array/description/) "
   ]
  },
  {
   "cell_type": "code",
   "execution_count": 38,
   "metadata": {
    "collapsed": true
   },
   "outputs": [],
   "source": [
    "# Input\n",
    "arr = [0,0,1,2,2,3,4,5,6,6,6,7,8,9]"
   ]
  },
  {
   "cell_type": "code",
   "execution_count": 39,
   "metadata": {},
   "outputs": [],
   "source": [
    "def remove_duplicates(arr):\n",
    "    # Check if array is empty.\n",
    "    if not nums:\n",
    "        return 0\n",
    "    \n",
    "    dup = 0\n",
    "    for i in range(len(arr)-1):\n",
    "        idx = i - dup\n",
    "        if arr[idx + 1] == arr[idx]:\n",
    "            arr.remove(arr[idx])\n",
    "            dup += 1\n",
    "    return len(arr) "
   ]
  },
  {
   "cell_type": "code",
   "execution_count": 40,
   "metadata": {},
   "outputs": [
    {
     "data": {
      "text/plain": [
       "10"
      ]
     },
     "execution_count": 40,
     "metadata": {},
     "output_type": "execute_result"
    }
   ],
   "source": [
    "# Output\n",
    "remove_duplicates(arr)"
   ]
  }
 ],
 "metadata": {
  "kernelspec": {
   "display_name": "Python 3",
   "language": "python",
   "name": "python3"
  },
  "language_info": {
   "codemirror_mode": {
    "name": "ipython",
    "version": 3
   },
   "file_extension": ".py",
   "mimetype": "text/x-python",
   "name": "python",
   "nbconvert_exporter": "python",
   "pygments_lexer": "ipython3",
   "version": "3.6.2"
  }
 },
 "nbformat": 4,
 "nbformat_minor": 2
}
