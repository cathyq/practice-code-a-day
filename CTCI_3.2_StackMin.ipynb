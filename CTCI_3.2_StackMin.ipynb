{
 "cells": [
  {
   "cell_type": "markdown",
   "metadata": {},
   "source": [
    "### Cracking The Code Interview CH3.2"
   ]
  },
  {
   "cell_type": "code",
   "execution_count": null,
   "metadata": {
    "collapsed": true
   },
   "outputs": [],
   "source": [
    "class StackMin:\n",
    "    def __init__(self, size):\n",
    "        self.list = [None]*size\n",
    "        self.pos = 0\n",
    "        \n",
    "    def push(self, value):\n",
    "        if self.pos == 0:\n",
    "            self.list[0] = Element(0, value) \n",
    "        else:\n",
    "            last = self.list[self.pos-1]\n",
    "            minimum = self.list[last.idx]\n",
    "            if value >= minimum.val:\n",
    "                self.list[self.pos] = Element(last.idx, value)\n",
    "            else:\n",
    "                self.list[self.pos] = Element(self.pos, value)\n",
    "        self.pos += 1\n",
    "        \n",
    "    def pop(self):\n",
    "        self.pos -= 1\n",
    "        return self.list[self.pos]\n",
    "    \n",
    "    def minimum(self):\n",
    "        last = self.list[self.pos-1]\n",
    "        return self.list[last.idx].value\n"
   ]
  },
  {
   "cell_type": "code",
   "execution_count": null,
   "metadata": {
    "collapsed": true
   },
   "outputs": [],
   "source": [
    "class Element:\n",
    "    def __init__(self, idx, val):\n",
    "        self.idx = idx # index of smallest\n",
    "        self.val = val"
   ]
  },
  {
   "cell_type": "code",
   "execution_count": null,
   "metadata": {
    "collapsed": true
   },
   "outputs": [],
   "source": [
    "s = StackMin(2)"
   ]
  },
  {
   "cell_type": "code",
   "execution_count": null,
   "metadata": {},
   "outputs": [],
   "source": [
    "s.push(3)"
   ]
  },
  {
   "cell_type": "code",
   "execution_count": null,
   "metadata": {},
   "outputs": [],
   "source": [
    "s.push(4)"
   ]
  },
  {
   "cell_type": "code",
   "execution_count": null,
   "metadata": {},
   "outputs": [],
   "source": [
    "s.pop()"
   ]
  }
 ],
 "metadata": {
  "kernelspec": {
   "display_name": "Python 3",
   "language": "python",
   "name": "python3"
  },
  "language_info": {
   "codemirror_mode": {
    "name": "ipython",
    "version": 3
   },
   "file_extension": ".py",
   "mimetype": "text/x-python",
   "name": "python",
   "nbconvert_exporter": "python",
   "pygments_lexer": "ipython3",
   "version": "3.6.2"
  }
 },
 "nbformat": 4,
 "nbformat_minor": 2
}
