{
 "cells": [
  {
   "cell_type": "markdown",
   "metadata": {},
   "source": [
    "### Cracking The Code Interview CH1.6"
   ]
  },
  {
   "cell_type": "code",
   "execution_count": 6,
   "metadata": {
    "collapsed": true
   },
   "outputs": [],
   "source": [
    "# Input\n",
    "s = 'aabcccccaaa'\n",
    "# Desired Output\n",
    "output = 'a2b1c5a3'"
   ]
  },
  {
   "cell_type": "code",
   "execution_count": 2,
   "metadata": {
    "collapsed": true
   },
   "outputs": [],
   "source": [
    "# Method1 - Use a new list\n",
    "def string_compression(s):\n",
    "    l = []\n",
    "    count = 0\n",
    "    \n",
    "    for i in range(len(s)):\n",
    "        if i == 0:\n",
    "            l.append(s[i])\n",
    "            count = 1\n",
    "\n",
    "        else:\n",
    "            if s[i] == s[i-1]:\n",
    "                count += 1\n",
    "            else:\n",
    "                l.append(str(count))\n",
    "                l.append(s[i])\n",
    "                count = 1\n",
    "    l.append(str(count))\n",
    "    result = \"\".join(l)\n",
    "    return result"
   ]
  },
  {
   "cell_type": "code",
   "execution_count": 3,
   "metadata": {},
   "outputs": [
    {
     "data": {
      "text/plain": [
       "'a2b1c5a3'"
      ]
     },
     "execution_count": 3,
     "metadata": {},
     "output_type": "execute_result"
    }
   ],
   "source": [
    "string_compression(s)"
   ]
  },
  {
   "cell_type": "code",
   "execution_count": 4,
   "metadata": {
    "collapsed": true
   },
   "outputs": [],
   "source": [
    "# Method2 - Use string directly\n",
    "def string_compression1(s):\n",
    "    new_s = ''\n",
    "    count = 0\n",
    "    \n",
    "    for i in range(len(s)):\n",
    "        if i == 0:\n",
    "            new_s += s[i]\n",
    "            count = 1\n",
    "\n",
    "        else:\n",
    "            if s[i] == s[i-1]:\n",
    "                count += 1\n",
    "            else:\n",
    "                new_s += str(count)\n",
    "                new_s += s[i]\n",
    "                count = 1\n",
    "    new_s += str(count)\n",
    "    return new_s"
   ]
  },
  {
   "cell_type": "code",
   "execution_count": 5,
   "metadata": {},
   "outputs": [
    {
     "data": {
      "text/plain": [
       "'a2b1c5a3'"
      ]
     },
     "execution_count": 5,
     "metadata": {},
     "output_type": "execute_result"
    }
   ],
   "source": [
    "string_compression1(s)"
   ]
  }
 ],
 "metadata": {
  "kernelspec": {
   "display_name": "Python 3",
   "language": "python",
   "name": "python3"
  },
  "language_info": {
   "codemirror_mode": {
    "name": "ipython",
    "version": 3
   },
   "file_extension": ".py",
   "mimetype": "text/x-python",
   "name": "python",
   "nbconvert_exporter": "python",
   "pygments_lexer": "ipython3",
   "version": "3.6.2"
  }
 },
 "nbformat": 4,
 "nbformat_minor": 2
}
