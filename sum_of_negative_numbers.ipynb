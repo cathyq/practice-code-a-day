{
 "cells": [
  {
   "cell_type": "markdown",
   "metadata": {},
   "source": [
    "### Given a sorted descending list of numbers, find the sum of all negative numbers."
   ]
  },
  {
   "cell_type": "code",
   "execution_count": 1,
   "metadata": {
    "collapsed": true
   },
   "outputs": [],
   "source": [
    "# Input\n",
    "lst = [7,5,4,4,3,1,-2,-3,-5,-7]"
   ]
  },
  {
   "cell_type": "code",
   "execution_count": 2,
   "metadata": {},
   "outputs": [
    {
     "name": "stdout",
     "output_type": "stream",
     "text": [
      "-17\n"
     ]
    }
   ],
   "source": [
    "# Method 1 - Using a for loop\n",
    "total = 0\n",
    "for i in reversed(lst):\n",
    "    if i > 0:\n",
    "        break\n",
    "    total += i\n",
    "    \n",
    "print(total)"
   ]
  },
  {
   "cell_type": "code",
   "execution_count": 3,
   "metadata": {},
   "outputs": [
    {
     "name": "stdout",
     "output_type": "stream",
     "text": [
      "-17\n"
     ]
    }
   ],
   "source": [
    "# Method 2 - Using a while loop\n",
    "total1 = 0\n",
    "j = 1\n",
    "while True:\n",
    "    total1 += lst[-j]\n",
    "    j += 1\n",
    "    if lst[-j] > 0:\n",
    "        break\n",
    "        \n",
    "print(total1)"
   ]
  }
 ],
 "metadata": {
  "kernelspec": {
   "display_name": "Python 3",
   "language": "python",
   "name": "python3"
  },
  "language_info": {
   "codemirror_mode": {
    "name": "ipython",
    "version": 3
   },
   "file_extension": ".py",
   "mimetype": "text/x-python",
   "name": "python",
   "nbconvert_exporter": "python",
   "pygments_lexer": "ipython3",
   "version": "3.6.2"
  }
 },
 "nbformat": 4,
 "nbformat_minor": 2
}
