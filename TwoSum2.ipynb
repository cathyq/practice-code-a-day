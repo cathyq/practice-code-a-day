{
 "cells": [
  {
   "cell_type": "markdown",
   "metadata": {},
   "source": [
    "# Two Sum 2\n",
    "\n",
    "Given an array of integers that is already **sorted** in ascending order, find two numbers such that they add up to a specific target number, where index1 must be less than index2. Both index1 and index2 are not zero-based.\n",
    "\n",
    "[Problem from LeetCode](https://leetcode.com/problems/two-sum-ii-input-array-is-sorted/description)"
   ]
  },
  {
   "cell_type": "code",
   "execution_count": 108,
   "metadata": {
    "collapsed": true
   },
   "outputs": [],
   "source": [
    "# Input\n",
    "nums = [1,2,3,4,9,56,90]\n",
    "target = 8"
   ]
  },
  {
   "cell_type": "code",
   "execution_count": 109,
   "metadata": {},
   "outputs": [],
   "source": [
    "def binary_search(nums, target):\n",
    "    left = 0\n",
    "    right = len(nums) - 1\n",
    "    middle = (left + right) // 2\n",
    "    while left <= right:\n",
    "        if nums[middle] == target:\n",
    "            return middle\n",
    "        elif target < nums[middle]:\n",
    "            right = middle - 1\n",
    "            middle = (left + right) // 2\n",
    "        else:\n",
    "            left = middle + 1 \n",
    "            middle = (left + right) // 2\n",
    "    return -1"
   ]
  },
  {
   "cell_type": "code",
   "execution_count": 110,
   "metadata": {},
   "outputs": [],
   "source": [
    "def twoSum2(nums, target):\n",
    "    for i in range(len(nums)):\n",
    "        remain = target - nums[i]\n",
    "        result = binary_search(nums, remain)\n",
    "        if result != -1 and result != i:\n",
    "            return [i+1, result+1]  \n",
    "twoSum2(nums, target)"
   ]
  },
  {
   "cell_type": "code",
   "execution_count": 111,
   "metadata": {},
   "outputs": [],
   "source": [
    "# Testing\n",
    "for i, target in enumerate(nums):\n",
    "    y = binary_search(nums, target)\n",
    "    if y != i:\n",
    "        print(\"Ooops, this should match, but doesn't. Index is\", y, i, target)"
   ]
  }
 ],
 "metadata": {
  "kernelspec": {
   "display_name": "Python 3",
   "language": "python",
   "name": "python3"
  },
  "language_info": {
   "codemirror_mode": {
    "name": "ipython",
    "version": 3
   },
   "file_extension": ".py",
   "mimetype": "text/x-python",
   "name": "python",
   "nbconvert_exporter": "python",
   "pygments_lexer": "ipython3",
   "version": "3.6.2"
  }
 },
 "nbformat": 4,
 "nbformat_minor": 2
}
